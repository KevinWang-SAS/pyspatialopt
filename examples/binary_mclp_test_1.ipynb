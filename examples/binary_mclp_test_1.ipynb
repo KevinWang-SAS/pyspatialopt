{
 "cells": [
  {
   "cell_type": "markdown",
   "metadata": {},
   "source": [
    "# A case study of MCLP in pySpatialOpt"
   ]
  },
  {
   "cell_type": "code",
   "execution_count": 3,
   "metadata": {},
   "outputs": [],
   "source": [
    "# import packages\n",
    "import logging\n",
    "import sys\n",
    "import arcpy\n",
    "import pulp\n",
    "from pyspatialopt.analysis import arcpy_analysis\n",
    "from pyspatialopt.models import utilities\n",
    "from pyspatialopt.models import covering\n",
    "import os"
   ]
  },
  {
   "cell_type": "code",
   "execution_count": 10,
   "metadata": {},
   "outputs": [
    {
     "name": "stdout",
     "output_type": "stream",
     "text": [
      "C:\\Users\\Huanfa Chen\\Documents\\GitHub\\pyspatialopt\\examples\n",
      "C:\\Users\\Huanfa Chen\\Documents\\GitHub\\pyspatialopt\\examples\n"
     ]
    }
   ],
   "source": [
    "# file path\n",
    "scriptDir = os.getcwd()\n",
    "print(scriptDir)\n",
    "print(os.getcwd())"
   ]
  },
  {
   "cell_type": "code",
   "execution_count": 11,
   "metadata": {},
   "outputs": [],
   "source": [
    "# load demand layer of polygons. Fields?\n",
    "demand_polygon_fl = arcpy.MakeFeatureLayer_management(os.path.join(scriptDir, r\"../sample_data/demand_polygon.shp\")).getOutput(0)"
   ]
  },
  {
   "cell_type": "code",
   "execution_count": 27,
   "metadata": {},
   "outputs": [],
   "source": [
    "# load facility service area layer\n",
    "facility_service_areas_fl = arcpy.MakeFeatureLayer_management(os.path.join(scriptDir, \n",
    "        r\"../sample_data/facility_service_areas.shp\")).getOutput(0)"
   ]
  },
  {
   "cell_type": "code",
   "execution_count": 28,
   "metadata": {},
   "outputs": [
    {
     "name": "stdout",
     "output_type": "stream",
     "text": [
      "<class 'arcpy._mapping.Layer'>\n",
      "C:\\Users\\Huanfa Chen\\Documents\\GitHub\\pyspatialopt\\sample_data\\demand_polygon.shp\n",
      "Polygon\n",
      "[<geoprocessing describe field object object at 0x0000000004847210>, <geoprocessing describe field object object at 0x0000000004847AB0>, <geoprocessing describe field object object at 0x0000000004847BB0>, <geoprocessing describe field object object at 0x0000000004847310>]\n"
     ]
    },
    {
     "data": {
      "text/plain": [
       "[u'FID', u'Shape', u'GEOID10', u'Population']"
      ]
     },
     "execution_count": 28,
     "metadata": {},
     "output_type": "execute_result"
    }
   ],
   "source": [
    "# describe the demand layer\n",
    "\n",
    "print(demand_polygon_fl.__class__)\n",
    "print(demand_polygon_fl.dataSource)\n",
    "demand_polygon_fl.description\n",
    "\n",
    "print(arcpy.Describe(demand_polygon_fl).shapeType)\n",
    "\n",
    "# describe the layer fields\n",
    "print(arcpy.Describe(demand_polygon_fl).fields)\n",
    "# print the name of each element \n",
    "map(lambda x:x.name, arcpy.Describe(demand_polygon_fl).fields)"
   ]
  },
  {
   "cell_type": "code",
   "execution_count": 29,
   "metadata": {},
   "outputs": [
    {
     "name": "stdout",
     "output_type": "stream",
     "text": [
      "Polygon\n",
      "[<geoprocessing describe field object object at 0x0000000004847C70>, <geoprocessing describe field object object at 0x0000000004847650>, <geoprocessing describe field object object at 0x0000000004847550>]\n"
     ]
    },
    {
     "data": {
      "text/plain": [
       "[u'FID', u'Shape', u'ORIG_ID']"
      ]
     },
     "execution_count": 29,
     "metadata": {},
     "output_type": "execute_result"
    }
   ],
   "source": [
    "# describe the facility service areas\n",
    "print(arcpy.Describe(facility_service_areas_fl).shapeType)\n",
    "\n",
    "# describe the layer fields\n",
    "print(arcpy.Describe(facility_service_areas_fl).fields)\n",
    "# print the name of each element \n",
    "map(lambda x:x.name, arcpy.Describe(facility_service_areas_fl).fields)"
   ]
  },
  {
   "cell_type": "markdown",
   "metadata": {},
   "source": [
    "So the `demand_polygon_fl` is a layer object. It can either reference layers in a map document (.mxd) and layers in a layer (.lyr) file.\n",
    "\n",
    "Similarly, `facility_service_areas_fl` is a layer object consisting of polygons. "
   ]
  },
  {
   "cell_type": "code",
   "execution_count": 13,
   "metadata": {},
   "outputs": [],
   "source": [
    "# create binary coverage (polygon) dictionary structure\n",
    "binary_coverage_polygon = arcpy_analysis.generate_binary_coverage(demand_polygon_fl, facility_service_areas_fl,\n",
    "                                                                      \"Population\",\n",
    "                                                                      \"GEOID10\", \"ORIG_ID\")"
   ]
  },
  {
   "cell_type": "markdown",
   "metadata": {},
   "source": [
    "Binary coverage means that a demand unit can be either totally covered by a facility (meaning that serviceableDemand is equal to demand), or not covered by a facility. Also, a demand unit can be covered by more than one facilities.\n",
    "\n",
    "Binary coverage of a facility `f1` to a polygonal demand unit `d1` is true when the service area of `f1` contains `d1`. \n",
    "\n",
    "The totalServiceableDemand is a sum of the serviceableDemand of all units."
   ]
  },
  {
   "cell_type": "code",
   "execution_count": 52,
   "metadata": {},
   "outputs": [
    {
     "name": "stdout",
     "output_type": "stream",
     "text": [
      "['totalServiceableDemand', 'facilities', 'version', 'demand', 'totalDemand', 'type']\n",
      "1029655.0\n",
      "320453.0\n",
      "{u'facility_service_areas': ['0', '1', '2', '3', '4', '5', '6', '7']}\n",
      "{'type': 'binary', 'mode': 'coverage'}\n",
      "<type 'dict'>\n",
      "('49035101900', {'demand': 2497.0, 'serviceableDemand': 0, 'coverage': {u'facility_service_areas': {}}, 'area': 699021.0})\n",
      "('49035110402', {'demand': 3653.0, 'serviceableDemand': 0, 'coverage': {u'facility_service_areas': {}}, 'area': 1747477.0})\n",
      "('49035110401', {'demand': 3476.0, 'serviceableDemand': 3476.0, 'coverage': {u'facility_service_areas': {'4': 1}}, 'area': 1806460.0})\n"
     ]
    }
   ],
   "source": [
    "# details in the binary_coverage_polygon\n",
    "print(binary_coverage_polygon.keys())\n",
    "print(binary_coverage_polygon['totalDemand'])\n",
    "print(binary_coverage_polygon['totalServiceableDemand'])\n",
    "print(binary_coverage_polygon['facilities'])\n",
    "print(binary_coverage_polygon['type'])\n",
    "\n",
    "# view the demand attribute. The core part!\n",
    "dict_demand = binary_coverage_polygon['demand']\n",
    "print(binary_coverage_polygon['demand'].__class__)\n",
    "# first item\n",
    "# This item in the dict corresponds to a demand unit. \n",
    "print(dict_demand.items()[0])\n",
    "print(dict_demand.items()[1])\n",
    "print(dict_demand.items()[2])\n",
    "# print(dict(itertools.islice(dict_demand.iteritems(), 0, 2)))"
   ]
  },
  {
   "cell_type": "code",
   "execution_count": 53,
   "metadata": {},
   "outputs": [],
   "source": [
    "# create partial coverage (polygon) dictionary structure\n",
    "partial_coverage_polygon = arcpy_analysis.generate_partial_coverage(demand_polygon_fl, facility_service_areas_fl,\n",
    "                                                                      \"Population\",\n",
    "                                                                      \"GEOID10\", \"ORIG_ID\")"
   ]
  },
  {
   "cell_type": "markdown",
   "metadata": {},
   "source": [
    "Compare the results of binary_coverage and partial_coverage."
   ]
  },
  {
   "cell_type": "code",
   "execution_count": 56,
   "metadata": {},
   "outputs": [
    {
     "name": "stdout",
     "output_type": "stream",
     "text": [
      "('Total serviceable demand of BINARY coverage: ', 320453.0)\n",
      "('Total serviceable demand of PARTIAL coverage: ', 562706.0)\n",
      "Yes. The total serviceable demand of partial coverage should exceed that of binary coverage\n"
     ]
    }
   ],
   "source": [
    "print(\"Total serviceable demand of BINARY coverage: \", binary_coverage_polygon['totalServiceableDemand'])\n",
    "print(\"Total serviceable demand of PARTIAL coverage: \", partial_coverage_polygon['totalServiceableDemand'])\n",
    "print(\"Yes. The total serviceable demand of partial coverage should exceed that of binary coverage\")"
   ]
  }
 ],
 "metadata": {
  "kernelspec": {
   "display_name": "Python [conda env:arc104_new]",
   "language": "python",
   "name": "conda-env-arc104_new-py"
  },
  "language_info": {
   "codemirror_mode": {
    "name": "ipython",
    "version": 2
   },
   "file_extension": ".py",
   "mimetype": "text/x-python",
   "name": "python",
   "nbconvert_exporter": "python",
   "pygments_lexer": "ipython2",
   "version": "2.7.10"
  }
 },
 "nbformat": 4,
 "nbformat_minor": 2
}
